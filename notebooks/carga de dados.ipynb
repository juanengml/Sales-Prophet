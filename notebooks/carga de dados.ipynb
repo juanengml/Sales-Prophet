{
 "cells": [
  {
   "cell_type": "markdown",
   "id": "a7782e5b-bb51-472e-8c7f-7e088f1d3059",
   "metadata": {},
   "source": [
    "## Test da API "
   ]
  },
  {
   "cell_type": "code",
   "execution_count": 31,
   "id": "4e47d244-dc86-44ab-8720-c45ac38e149f",
   "metadata": {},
   "outputs": [],
   "source": [
    "import pandas as pd\n",
    "from random import choice\n",
    "import requests"
   ]
  },
  {
   "cell_type": "code",
   "execution_count": 32,
   "id": "92174edd-8125-4377-a3b0-96c7731038c1",
   "metadata": {},
   "outputs": [],
   "source": [
    "from datetime import datetime, timedelta\n",
    "from random import randrange\n",
    "\n",
    "def random_date(start, end):\n",
    "    start_date = datetime.strptime(start, '%Y-%m-%d')\n",
    "    end_date = datetime.strptime(end, '%Y-%m-%d')\n",
    "    random_days = randrange((end_date - start_date).days)\n",
    "    return (start_date + timedelta(days=random_days)).strftime('%Y-%m-%d')\n"
   ]
  },
  {
   "cell_type": "markdown",
   "id": "dc6a5dda-287b-4fd5-acf1-6d2edc42f3ed",
   "metadata": {},
   "source": [
    "## Carga de Dados"
   ]
  },
  {
   "cell_type": "code",
   "execution_count": 33,
   "id": "7dcf2cb4-54f0-464f-af75-23db0aa02ade",
   "metadata": {
    "tags": []
   },
   "outputs": [],
   "source": [
    "base = list()\n",
    "for _ in range(20):\n",
    "   data = {\n",
    "    'date': random_date('2022-01-01', '2023-01-01'),\n",
    "    'venda_total': choice(range(100,200)),\n",
    "    'dados_mercado': 'ABC',\n",
    "    'localidade': choice(['SP','PR','MG','RO'])\n",
    "   }\n",
    "   base.append(data)"
   ]
  },
  {
   "cell_type": "code",
   "execution_count": 34,
   "id": "bff28bbc-9190-4e6b-8fee-3ad26d956c5e",
   "metadata": {},
   "outputs": [
    {
     "data": {
      "text/html": [
       "<div>\n",
       "<style scoped>\n",
       "    .dataframe tbody tr th:only-of-type {\n",
       "        vertical-align: middle;\n",
       "    }\n",
       "\n",
       "    .dataframe tbody tr th {\n",
       "        vertical-align: top;\n",
       "    }\n",
       "\n",
       "    .dataframe thead th {\n",
       "        text-align: right;\n",
       "    }\n",
       "</style>\n",
       "<table border=\"1\" class=\"dataframe\">\n",
       "  <thead>\n",
       "    <tr style=\"text-align: right;\">\n",
       "      <th></th>\n",
       "      <th>date</th>\n",
       "      <th>venda_total</th>\n",
       "      <th>dados_mercado</th>\n",
       "      <th>localidade</th>\n",
       "    </tr>\n",
       "  </thead>\n",
       "  <tbody>\n",
       "    <tr>\n",
       "      <th>0</th>\n",
       "      <td>2022-10-01</td>\n",
       "      <td>188</td>\n",
       "      <td>ABC</td>\n",
       "      <td>MG</td>\n",
       "    </tr>\n",
       "    <tr>\n",
       "      <th>1</th>\n",
       "      <td>2022-12-05</td>\n",
       "      <td>115</td>\n",
       "      <td>ABC</td>\n",
       "      <td>SP</td>\n",
       "    </tr>\n",
       "    <tr>\n",
       "      <th>2</th>\n",
       "      <td>2022-01-27</td>\n",
       "      <td>178</td>\n",
       "      <td>ABC</td>\n",
       "      <td>SP</td>\n",
       "    </tr>\n",
       "    <tr>\n",
       "      <th>3</th>\n",
       "      <td>2022-08-11</td>\n",
       "      <td>127</td>\n",
       "      <td>ABC</td>\n",
       "      <td>MG</td>\n",
       "    </tr>\n",
       "    <tr>\n",
       "      <th>4</th>\n",
       "      <td>2022-09-04</td>\n",
       "      <td>195</td>\n",
       "      <td>ABC</td>\n",
       "      <td>MG</td>\n",
       "    </tr>\n",
       "  </tbody>\n",
       "</table>\n",
       "</div>"
      ],
      "text/plain": [
       "         date  venda_total dados_mercado localidade\n",
       "0  2022-10-01          188           ABC         MG\n",
       "1  2022-12-05          115           ABC         SP\n",
       "2  2022-01-27          178           ABC         SP\n",
       "3  2022-08-11          127           ABC         MG\n",
       "4  2022-09-04          195           ABC         MG"
      ]
     },
     "execution_count": 34,
     "metadata": {},
     "output_type": "execute_result"
    }
   ],
   "source": [
    "pd.DataFrame.from_dict(base).head()"
   ]
  },
  {
   "cell_type": "code",
   "execution_count": 35,
   "id": "559a5b71-c841-469a-b5ad-6da55b6ce2ce",
   "metadata": {},
   "outputs": [
    {
     "name": "stdout",
     "output_type": "stream",
     "text": [
      "200\n",
      "{'message': 'Vendas cadastradas com sucesso.'}\n"
     ]
    }
   ],
   "source": [
    "url = 'http://localhost:5000/vendas'\n",
    "response = requests.post(url, json={\"data\":base})\n",
    "print(response.status_code)\n",
    "print(response.json())\n"
   ]
  },
  {
   "cell_type": "markdown",
   "id": "8e48abae-0bbc-46bc-a614-30b88ef7f264",
   "metadata": {},
   "source": [
    "## Consulta todas as Vendas"
   ]
  },
  {
   "cell_type": "code",
   "execution_count": 36,
   "id": "b5e450f7-664b-4b1c-ab2b-c4e66e51887c",
   "metadata": {
    "tags": []
   },
   "outputs": [],
   "source": [
    "df = pd.DataFrame.from_dict(requests.get(\"http://localhost:5000/vendas\").json()['vendas'])"
   ]
  },
  {
   "cell_type": "code",
   "execution_count": 38,
   "id": "1f79eb6c-15f2-4973-a784-452f48c3501b",
   "metadata": {},
   "outputs": [
    {
     "data": {
      "text/html": [
       "<div>\n",
       "<style scoped>\n",
       "    .dataframe tbody tr th:only-of-type {\n",
       "        vertical-align: middle;\n",
       "    }\n",
       "\n",
       "    .dataframe tbody tr th {\n",
       "        vertical-align: top;\n",
       "    }\n",
       "\n",
       "    .dataframe thead th {\n",
       "        text-align: right;\n",
       "    }\n",
       "</style>\n",
       "<table border=\"1\" class=\"dataframe\">\n",
       "  <thead>\n",
       "    <tr style=\"text-align: right;\">\n",
       "      <th></th>\n",
       "      <th>id</th>\n",
       "      <th>date</th>\n",
       "      <th>venda_total</th>\n",
       "      <th>dados_mercado</th>\n",
       "      <th>localidade</th>\n",
       "    </tr>\n",
       "  </thead>\n",
       "  <tbody>\n",
       "    <tr>\n",
       "      <th>0</th>\n",
       "      <td>1</td>\n",
       "      <td>2022-10-01</td>\n",
       "      <td>188</td>\n",
       "      <td>ABC</td>\n",
       "      <td>MG</td>\n",
       "    </tr>\n",
       "    <tr>\n",
       "      <th>1</th>\n",
       "      <td>2</td>\n",
       "      <td>2022-12-05</td>\n",
       "      <td>115</td>\n",
       "      <td>ABC</td>\n",
       "      <td>SP</td>\n",
       "    </tr>\n",
       "    <tr>\n",
       "      <th>2</th>\n",
       "      <td>3</td>\n",
       "      <td>2022-01-27</td>\n",
       "      <td>178</td>\n",
       "      <td>ABC</td>\n",
       "      <td>SP</td>\n",
       "    </tr>\n",
       "    <tr>\n",
       "      <th>3</th>\n",
       "      <td>4</td>\n",
       "      <td>2022-08-11</td>\n",
       "      <td>127</td>\n",
       "      <td>ABC</td>\n",
       "      <td>MG</td>\n",
       "    </tr>\n",
       "    <tr>\n",
       "      <th>4</th>\n",
       "      <td>5</td>\n",
       "      <td>2022-09-04</td>\n",
       "      <td>195</td>\n",
       "      <td>ABC</td>\n",
       "      <td>MG</td>\n",
       "    </tr>\n",
       "    <tr>\n",
       "      <th>5</th>\n",
       "      <td>6</td>\n",
       "      <td>2022-05-16</td>\n",
       "      <td>195</td>\n",
       "      <td>ABC</td>\n",
       "      <td>RO</td>\n",
       "    </tr>\n",
       "    <tr>\n",
       "      <th>6</th>\n",
       "      <td>7</td>\n",
       "      <td>2022-03-08</td>\n",
       "      <td>168</td>\n",
       "      <td>ABC</td>\n",
       "      <td>SP</td>\n",
       "    </tr>\n",
       "    <tr>\n",
       "      <th>7</th>\n",
       "      <td>8</td>\n",
       "      <td>2022-05-31</td>\n",
       "      <td>106</td>\n",
       "      <td>ABC</td>\n",
       "      <td>RO</td>\n",
       "    </tr>\n",
       "    <tr>\n",
       "      <th>8</th>\n",
       "      <td>9</td>\n",
       "      <td>2022-10-30</td>\n",
       "      <td>177</td>\n",
       "      <td>ABC</td>\n",
       "      <td>PR</td>\n",
       "    </tr>\n",
       "    <tr>\n",
       "      <th>9</th>\n",
       "      <td>10</td>\n",
       "      <td>2022-08-03</td>\n",
       "      <td>119</td>\n",
       "      <td>ABC</td>\n",
       "      <td>PR</td>\n",
       "    </tr>\n",
       "    <tr>\n",
       "      <th>10</th>\n",
       "      <td>11</td>\n",
       "      <td>2022-07-20</td>\n",
       "      <td>152</td>\n",
       "      <td>ABC</td>\n",
       "      <td>PR</td>\n",
       "    </tr>\n",
       "    <tr>\n",
       "      <th>11</th>\n",
       "      <td>12</td>\n",
       "      <td>2022-11-24</td>\n",
       "      <td>113</td>\n",
       "      <td>ABC</td>\n",
       "      <td>MG</td>\n",
       "    </tr>\n",
       "    <tr>\n",
       "      <th>12</th>\n",
       "      <td>13</td>\n",
       "      <td>2022-04-10</td>\n",
       "      <td>131</td>\n",
       "      <td>ABC</td>\n",
       "      <td>RO</td>\n",
       "    </tr>\n",
       "    <tr>\n",
       "      <th>13</th>\n",
       "      <td>14</td>\n",
       "      <td>2022-07-21</td>\n",
       "      <td>118</td>\n",
       "      <td>ABC</td>\n",
       "      <td>RO</td>\n",
       "    </tr>\n",
       "    <tr>\n",
       "      <th>14</th>\n",
       "      <td>15</td>\n",
       "      <td>2022-05-19</td>\n",
       "      <td>186</td>\n",
       "      <td>ABC</td>\n",
       "      <td>MG</td>\n",
       "    </tr>\n",
       "    <tr>\n",
       "      <th>15</th>\n",
       "      <td>16</td>\n",
       "      <td>2022-12-22</td>\n",
       "      <td>139</td>\n",
       "      <td>ABC</td>\n",
       "      <td>PR</td>\n",
       "    </tr>\n",
       "    <tr>\n",
       "      <th>16</th>\n",
       "      <td>17</td>\n",
       "      <td>2022-02-22</td>\n",
       "      <td>145</td>\n",
       "      <td>ABC</td>\n",
       "      <td>MG</td>\n",
       "    </tr>\n",
       "    <tr>\n",
       "      <th>17</th>\n",
       "      <td>18</td>\n",
       "      <td>2022-06-30</td>\n",
       "      <td>160</td>\n",
       "      <td>ABC</td>\n",
       "      <td>SP</td>\n",
       "    </tr>\n",
       "    <tr>\n",
       "      <th>18</th>\n",
       "      <td>19</td>\n",
       "      <td>2022-11-23</td>\n",
       "      <td>177</td>\n",
       "      <td>ABC</td>\n",
       "      <td>PR</td>\n",
       "    </tr>\n",
       "    <tr>\n",
       "      <th>19</th>\n",
       "      <td>20</td>\n",
       "      <td>2022-12-26</td>\n",
       "      <td>148</td>\n",
       "      <td>ABC</td>\n",
       "      <td>RO</td>\n",
       "    </tr>\n",
       "  </tbody>\n",
       "</table>\n",
       "</div>"
      ],
      "text/plain": [
       "    id        date  venda_total dados_mercado localidade\n",
       "0    1  2022-10-01          188           ABC         MG\n",
       "1    2  2022-12-05          115           ABC         SP\n",
       "2    3  2022-01-27          178           ABC         SP\n",
       "3    4  2022-08-11          127           ABC         MG\n",
       "4    5  2022-09-04          195           ABC         MG\n",
       "5    6  2022-05-16          195           ABC         RO\n",
       "6    7  2022-03-08          168           ABC         SP\n",
       "7    8  2022-05-31          106           ABC         RO\n",
       "8    9  2022-10-30          177           ABC         PR\n",
       "9   10  2022-08-03          119           ABC         PR\n",
       "10  11  2022-07-20          152           ABC         PR\n",
       "11  12  2022-11-24          113           ABC         MG\n",
       "12  13  2022-04-10          131           ABC         RO\n",
       "13  14  2022-07-21          118           ABC         RO\n",
       "14  15  2022-05-19          186           ABC         MG\n",
       "15  16  2022-12-22          139           ABC         PR\n",
       "16  17  2022-02-22          145           ABC         MG\n",
       "17  18  2022-06-30          160           ABC         SP\n",
       "18  19  2022-11-23          177           ABC         PR\n",
       "19  20  2022-12-26          148           ABC         RO"
      ]
     },
     "execution_count": 38,
     "metadata": {},
     "output_type": "execute_result"
    }
   ],
   "source": [
    "df"
   ]
  },
  {
   "cell_type": "markdown",
   "id": "a7e7fc62-000f-4a29-a735-de140592ad24",
   "metadata": {},
   "source": [
    "## Atualiza Item"
   ]
  },
  {
   "cell_type": "code",
   "execution_count": 39,
   "id": "ecde19ed-dd9f-44a6-952e-d8376a1246ed",
   "metadata": {},
   "outputs": [
    {
     "data": {
      "text/plain": [
       "{'id': 1,\n",
       " 'date': '2022-10-01',\n",
       " 'venda_total': 188,\n",
       " 'dados_mercado': 'ABC',\n",
       " 'localidade': 'MG'}"
      ]
     },
     "execution_count": 39,
     "metadata": {},
     "output_type": "execute_result"
    }
   ],
   "source": [
    "requests.get(\"http://localhost:5000/vendas\").json()['vendas'][0]"
   ]
  },
  {
   "cell_type": "code",
   "execution_count": 40,
   "id": "05ea36ee-7d1a-4996-b03b-160a76e41fd6",
   "metadata": {},
   "outputs": [
    {
     "name": "stdout",
     "output_type": "stream",
     "text": [
      "{'message': 'Vendas atualizadas com sucesso.'}\n"
     ]
    }
   ],
   "source": [
    "import requests\n",
    "\n",
    "# Define a URL da API e o ID da venda que será atualizada\n",
    "url = 'http://localhost:5000/vendas'\n",
    "\n",
    "\n",
    "# Define os dados que serão atualizados\n",
    "dados_atualizados = [\n",
    "    {\"id\":1,'date': '2022-12-22', 'venda_total': 50}\n",
    "]\n",
    "\n",
    "# Faz a requisição PUT enviando o ID da venda e os dados atualizados\n",
    "response = requests.put(url, json=dados_atualizados)\n",
    "\n",
    "# Exibe a resposta da API\n",
    "print(response.json())\n"
   ]
  },
  {
   "cell_type": "code",
   "execution_count": 41,
   "id": "e771eba2-c5e2-4e23-963a-b7014dc596ed",
   "metadata": {},
   "outputs": [
    {
     "data": {
      "text/plain": [
       "{'id': 1,\n",
       " 'date': '2022-12-22',\n",
       " 'venda_total': 50,\n",
       " 'dados_mercado': 'ABC',\n",
       " 'localidade': 'MG'}"
      ]
     },
     "execution_count": 41,
     "metadata": {},
     "output_type": "execute_result"
    }
   ],
   "source": [
    "requests.get(\"http://localhost:5000/vendas\").json()['vendas'][0]"
   ]
  },
  {
   "cell_type": "markdown",
   "id": "9f169793-20c7-447d-add3-a1d583a5802d",
   "metadata": {},
   "source": [
    "## Deleta Registro"
   ]
  },
  {
   "cell_type": "code",
   "execution_count": 42,
   "id": "c04d0c76-675b-4e0b-9c2c-37c68c56b5ae",
   "metadata": {},
   "outputs": [
    {
     "name": "stdout",
     "output_type": "stream",
     "text": [
      "Venda excluída com sucesso!\n"
     ]
    }
   ],
   "source": [
    "import requests\n",
    "\n",
    "# URL da API para excluir uma venda\n",
    "url = 'http://localhost:5000/vendas'\n",
    "\n",
    "# ID da venda a ser excluída\n",
    "venda_id = 1\n",
    "\n",
    "# Define o payload da requisição\n",
    "payload = [{'id': venda_id}]\n",
    "\n",
    "# Envia a requisição DELETE\n",
    "response = requests.delete(url, json=payload)\n",
    "\n",
    "# Verifica se a requisição foi bem-sucedida\n",
    "if response.status_code == 200:\n",
    "    print('Venda excluída com sucesso!')\n",
    "else:\n",
    "    print('Erro ao excluir venda.')\n"
   ]
  },
  {
   "cell_type": "markdown",
   "id": "6f099f97-bf78-49bc-a79a-9fda5a0e07df",
   "metadata": {},
   "source": [
    "## Forecast"
   ]
  },
  {
   "cell_type": "code",
   "execution_count": 72,
   "id": "d003ab88-93b5-4b0a-9f14-d4301b559717",
   "metadata": {},
   "outputs": [],
   "source": [
    "from dateutil.relativedelta import relativedelta\n"
   ]
  },
  {
   "cell_type": "code",
   "execution_count": 73,
   "id": "03542d76-8407-425c-b26c-d4352af11fe6",
   "metadata": {},
   "outputs": [],
   "source": [
    "import requests\n",
    "\n",
    "# Defina o endpoint da API para o recurso Forecast\n",
    "url = 'http://localhost:5000/forecast'\n",
    "\n",
    "# Crie um objeto JSON com as datas inicial e final para previsão\n",
    "data = {'data_inicial': '2023-01-01', 'data_final': '2024-02-01'}\n",
    "\n",
    "# Faça a requisição POST com o objeto JSON no corpo da requisição\n",
    "response = requests.post(url, json=data)\n",
    "\n",
    "# Obtenha o resultado da previsão no formato JSON\n",
    "previsao = response.json()\n",
    "\n"
   ]
  },
  {
   "cell_type": "code",
   "execution_count": 47,
   "id": "615661a7-0074-4e1b-af7c-9a5fe47813b5",
   "metadata": {},
   "outputs": [],
   "source": [
    "# Imprima o resultado da previsão\n",
    "# print(previsao)\n",
    "df_previsao = pd.DataFrame.from_dict(previsao['previsao'])"
   ]
  },
  {
   "cell_type": "code",
   "execution_count": 59,
   "id": "10cb1b3e-1f59-4ca0-8c59-1bec65465ef0",
   "metadata": {},
   "outputs": [],
   "source": [
    "df_previsao['venda_total'] = df_previsao['venda_total'].apply(lambda value:round(value,2))"
   ]
  },
  {
   "cell_type": "code",
   "execution_count": 64,
   "id": "0b3b88b7-a3bb-49c0-98e0-bfb7d0a9410a",
   "metadata": {},
   "outputs": [],
   "source": [
    "media = df_previsao['venda_total'][df_previsao.venda_total > 0].mean()\n",
    "df_previsao.loc[df_previsao.venda_total < 0, 'venda_total'] = media"
   ]
  },
  {
   "cell_type": "code",
   "execution_count": 70,
   "id": "23fd2bb7-a315-497d-96c9-fb4356081bc7",
   "metadata": {},
   "outputs": [
    {
     "data": {
      "text/plain": [
       "<Axes: >"
      ]
     },
     "execution_count": 70,
     "metadata": {},
     "output_type": "execute_result"
    },
    {
     "data": {
      "image/png": "[encoded data removed]",
      "text/plain": [
       "<Figure size 640x480 with 1 Axes>"
      ]
     },
     "metadata": {},
     "output_type": "display_data"
    }
   ],
   "source": [
    "df_previsao.head(50).plot()"
   ]
  },
  {
   "cell_type": "code",
   "execution_count": 71,
   "id": "e8c48c6f-77f4-4c88-9c6a-c1efde7fb355",
   "metadata": {},
   "outputs": [
    {
     "data": {
      "text/html": [
       "<div>\n",
       "<style scoped>\n",
       "    .dataframe tbody tr th:only-of-type {\n",
       "        vertical-align: middle;\n",
       "    }\n",
       "\n",
       "    .dataframe tbody tr th {\n",
       "        vertical-align: top;\n",
       "    }\n",
       "\n",
       "    .dataframe thead th {\n",
       "        text-align: right;\n",
       "    }\n",
       "</style>\n",
       "<table border=\"1\" class=\"dataframe\">\n",
       "  <thead>\n",
       "    <tr style=\"text-align: right;\">\n",
       "      <th></th>\n",
       "      <th>date</th>\n",
       "      <th>venda_total</th>\n",
       "    </tr>\n",
       "  </thead>\n",
       "  <tbody>\n",
       "    <tr>\n",
       "      <th>0</th>\n",
       "      <td>2022-01-27</td>\n",
       "      <td>163.400000</td>\n",
       "    </tr>\n",
       "    <tr>\n",
       "      <th>1</th>\n",
       "      <td>2022-02-22</td>\n",
       "      <td>143.230000</td>\n",
       "    </tr>\n",
       "    <tr>\n",
       "      <th>2</th>\n",
       "      <td>2022-03-08</td>\n",
       "      <td>141.870000</td>\n",
       "    </tr>\n",
       "    <tr>\n",
       "      <th>3</th>\n",
       "      <td>2022-04-10</td>\n",
       "      <td>182.340000</td>\n",
       "    </tr>\n",
       "    <tr>\n",
       "      <th>4</th>\n",
       "      <td>2022-05-16</td>\n",
       "      <td>166.450000</td>\n",
       "    </tr>\n",
       "    <tr>\n",
       "      <th>...</th>\n",
       "      <td>...</td>\n",
       "      <td>...</td>\n",
       "    </tr>\n",
       "    <tr>\n",
       "      <th>412</th>\n",
       "      <td>2024-05-27</td>\n",
       "      <td>94.220000</td>\n",
       "    </tr>\n",
       "    <tr>\n",
       "      <th>413</th>\n",
       "      <td>2024-05-28</td>\n",
       "      <td>62.830000</td>\n",
       "    </tr>\n",
       "    <tr>\n",
       "      <th>414</th>\n",
       "      <td>2024-05-29</td>\n",
       "      <td>87.710000</td>\n",
       "    </tr>\n",
       "    <tr>\n",
       "      <th>415</th>\n",
       "      <td>2024-05-30</td>\n",
       "      <td>80.280000</td>\n",
       "    </tr>\n",
       "    <tr>\n",
       "      <th>416</th>\n",
       "      <td>2024-05-31</td>\n",
       "      <td>108.239507</td>\n",
       "    </tr>\n",
       "  </tbody>\n",
       "</table>\n",
       "<p>417 rows × 2 columns</p>\n",
       "</div>"
      ],
      "text/plain": [
       "           date  venda_total\n",
       "0    2022-01-27   163.400000\n",
       "1    2022-02-22   143.230000\n",
       "2    2022-03-08   141.870000\n",
       "3    2022-04-10   182.340000\n",
       "4    2022-05-16   166.450000\n",
       "..          ...          ...\n",
       "412  2024-05-27    94.220000\n",
       "413  2024-05-28    62.830000\n",
       "414  2024-05-29    87.710000\n",
       "415  2024-05-30    80.280000\n",
       "416  2024-05-31   108.239507\n",
       "\n",
       "[417 rows x 2 columns]"
      ]
     },
     "execution_count": 71,
     "metadata": {},
     "output_type": "execute_result"
    }
   ],
   "source": [
    "df_previsao"
   ]
  },
  {
   "cell_type": "code",
   "execution_count": null,
   "id": "fafc60fe-231f-4e18-8ec0-39f4a5935249",
   "metadata": {},
   "outputs": [],
   "source": []
  }
 ],
 "metadata": {
  "kernelspec": {
   "display_name": "Python 3 (ipykernel)",
   "language": "python",
   "name": "python3"
  },
  "language_info": {
   "codemirror_mode": {
    "name": "ipython",
    "version": 3
   },
   "file_extension": ".py",
   "mimetype": "text/x-python",
   "name": "python",
   "nbconvert_exporter": "python",
   "pygments_lexer": "ipython3",
   "version": "3.10.6"
  }
 },
 "nbformat": 4,
 "nbformat_minor": 5
}
